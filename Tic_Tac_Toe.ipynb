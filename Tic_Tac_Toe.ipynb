{
  "nbformat": 4,
  "nbformat_minor": 0,
  "metadata": {
    "colab": {
      "name": "Tic Tac Toe.ipynb",
      "provenance": [],
      "collapsed_sections": []
    },
    "kernelspec": {
      "name": "python3",
      "display_name": "Python 3"
    },
    "language_info": {
      "name": "python"
    }
  },
  "cells": [
    {
      "cell_type": "code",
      "metadata": {
        "id": "dJ1pGcibBt9X"
      },
      "source": [
        "from IPython.display import clear_output \n",
        "\n",
        "#Display the board\n",
        "def display_board(board):                                     #Function takes the board parameter contains the symbols of player to print\n",
        "\n",
        "  print(f\"{board[6]:^5} || {board[7]:^5} || {board[8]:^5} \")  #Printing the board values using formatted print function \n",
        "  print(\"------------------------\")\n",
        "  print(f\"{board[3]:^5} || {board[4]:^5} || {board[5]:^5} \")\n",
        "  print(\"------------------------\")\n",
        "  print(f\"{board[2]:^5} || {board[1]:^5} || {board[0]:^5} \")\n"
      ],
      "execution_count": 1,
      "outputs": []
    },
    {
      "cell_type": "code",
      "metadata": {
        "id": "YHz_F7HHPaHv"
      },
      "source": [
        "#Fuction to check if any Player is winning or not\n",
        "def check_result(board):\n",
        "   #Matching the board blocks to check if it is matching winning condition for \"O\"\n",
        "  if((board[6]==board[3]==board[2]==\"O\") | (board[7]==board[4]==board[1]==\"O\") | (board[8]==board[5]==board[0]==\"O\")  |\n",
        "     (board[8]==board[4]==board[2]==\"O\") | (board[6]==board[4]==board[0]==\"O\") | (board[6]==board[7]==board[8]==\"O\") |\n",
        "     (board[3]==board[4]==board[5]==\"O\")  | (board[1]==board[0]==board[2]==\"O\")):                            \n",
        "\n",
        "    return \"O\"\n",
        "     #Matching the board blocks to check if it is matching winning condition for \"X\"\n",
        "  elif((board[6]==board[3]==board[2]==\"X\") | (board[7]==board[4]==board[1]==\"X\") | (board[8]==board[5]==board[0]==\"X\")  |\n",
        "     (board[8]==board[4]==board[2]==\"X\") | (board[6]==board[4]==board[0]==\"X\") | (board[6]==board[7]==board[8]==\"X\") |\n",
        "     (board[3]==board[4]==board[5]==\"X\")  | (board[1]==board[0]==board[2]==\"X\")):\n",
        "    return \"X\"\n",
        "  else:\n",
        "    #If Players are not winning return None\n",
        "    return None\n",
        "    \n",
        "\n",
        "\n"
      ],
      "execution_count": 2,
      "outputs": []
    },
    {
      "cell_type": "code",
      "metadata": {
        "id": "viKCfkn5VMM-"
      },
      "source": [
        "#Function to select the symbol for Player\n",
        "def player_input():\n",
        "  player2=\"\"\n",
        "  m=''\n",
        "  while m!='X' and m!='O':                                  #Loop will run untill user enter X or O\n",
        "    m=input(\"Do you want to be X or O\")                               \n",
        "    if m!='X' and m!='O':                                    #Print a message if given input is not X or O\n",
        "      print(\"Wrong choice\")\n",
        "\n",
        "  player1=m                                               #If Player enters the valid Symbol assign it player 1\n",
        "  if player1==\"X\":                                          #If player 1 selects X player 2 will be O\n",
        "    player2=\"O\"\n",
        "  else:\n",
        "    player2=\"X\"                                         #If player 2 selects O player 2 will be X\n",
        "  return player1,player2                                  #return both the players symbol"
      ],
      "execution_count": 3,
      "outputs": []
    },
    {
      "cell_type": "code",
      "metadata": {
        "id": "LlYfdt0DVSV8"
      },
      "source": [
        "#Function if player is ready\n",
        "def player_ready():\n",
        "  ready=input(\"Are you ready (Y/ N)\")                 #Ask if player is ready\n",
        "  while ready.upper()!='Y' and ready.upper()!='N':    #Loop will run untill Player enters the valid choice\n",
        "    print(\"Wrong choice\") \n",
        "    ready=input(\"Are you ready (Y / N)\")            \n",
        "  if(ready.upper()=='N'):                              #If Player is not ready     \n",
        "    return False                                        #Return False, Game over  \n",
        "  else:\n",
        "   return True                                         #Game will continue "
      ],
      "execution_count": 13,
      "outputs": []
    },
    {
      "cell_type": "code",
      "metadata": {
        "id": "WWxIslK1ZUH1"
      },
      "source": [
        "#Function to select the Player's position \n",
        "def choose_position(board,player_symb):\n",
        "  position=\"10\"\n",
        "  #loop will continue untill it Player gives unique block value between 1-9. \n",
        "  while(position.isdigit()==False or int(position) not in range(1,10) or (board[int(position)-1]=='O' or  board[int(position)-1]=='X')):\n",
        "    position=input(\"Choose your next position: (1-9)\")  #Ask the player to choose the position\n",
        "    if position.isdigit()==False:                   #if the given input is not digit\n",
        "      print(\"Wrong choice\")\n",
        "    elif int(position) not in range(1,10):        #If given position is not in 1-9 range\n",
        "      print(\"Select a number within limit(1-9)\")\n",
        "    elif board[int(position)-1]=='O' or  board[int(position)-1]=='X':   #If Value is already placed in the given position\n",
        "      print(\"Block already has element\")\n",
        "  \n",
        "\n",
        "  board[int(position)-1]=player_symb     #Assign the Players sign to the given position \n",
        "  return board                            #Return the updated board\n",
        "\n",
        "def match_tie(board):                   #Check if match is getting Tie\n",
        "  count=0\n",
        "  for b in board:                       #iterate through all the board items\n",
        "    if b=='O' or b=='X':                #if All the blocks in the board is already placed\n",
        "      count+=1                           #Add a counter               \n",
        "    else:\n",
        "      break\n",
        "  if count==9:                          #if all the position in the board are placed counter will reach to the 9 and game will tie\n",
        "    return True\n",
        "  else:\n",
        "    return False                        #Else It will not tie\n"
      ],
      "execution_count": 19,
      "outputs": []
    },
    {
      "cell_type": "code",
      "metadata": {
        "id": "zkvtnvv_NSAO"
      },
      "source": [
        "def lets_go():\n",
        "  board=9*[\" \"]                       #Creating an empty board \n",
        "  finish=True                          \n",
        "  if player_ready()==True:            #Ask if Player is ready \n",
        "    clear_output()                     #Clear the scree \n",
        "    p1,p2=player_input()              #Ask for Player to choose X or O \n",
        "    clear_output()      \n",
        "    display_board(board)              #display empty board\n",
        "    while finish:                     #Loop will end if any player wins, match tie  \n",
        "      print(f\"Player 1:{p1}\")                   \n",
        "      board=choose_position(board,p1)  #Select the position of Player 1\n",
        "      clear_output()  \n",
        "      display_board(board)             #Display the updated board after selecting the block  \n",
        "      result=check_result(board)       #Check if player 1 is winning\n",
        "      if result==p1:                   #if user is winning, break the loop\n",
        "        print(\"Congratulation Player 1 won\")\n",
        "        break\n",
        "      if match_tie(board):            #Check if match getting tie, loop will break\n",
        "        print(\"Well played!! game Tie\")\n",
        "        break                               \n",
        "      print(f\"Player 2:{p2}\")     \n",
        "      board=choose_position(board,p2)   #Select the position of Player 2\n",
        "      clear_output()\n",
        "      display_board(board)              #Display the updated board after selecting the block\n",
        "      result=check_result(board)        #Check if player 2 is wining\n",
        "      if result==p2:\n",
        "        print(\"Congratulation Player 2 won\")\n",
        "        break\n",
        "      if match_tie(board):\n",
        "        print(\"Well played!! game Tie\")\n",
        "        break\n",
        "  else:                                   #If player is not ready return to the home\n",
        "    return 0\n",
        "      \n",
        "\n",
        "\n"
      ],
      "execution_count": 31,
      "outputs": []
    },
    {
      "cell_type": "code",
      "metadata": {
        "colab": {
          "base_uri": "https://localhost:8080/"
        },
        "id": "0boRXU9tNASW",
        "outputId": "fdcdb7e4-efc4-4290-c5d3-7420d44cef3c"
      },
      "source": [
        "print(\"Welcome to the Tic Tac Toe game\")\n",
        "print(\"<<About Game>>: \")\n",
        "print(\"There are Nine blocks represented by the Nine number(1-9) shown below. Enter the block number to insert element in the perticular block\")\n",
        "board=[1,2,3,4,5,6,7,8,9]\n",
        "display_board(board) #Shows number refering to the each block\n",
        "choice='Y' \n",
        "while 1:\n",
        "\n",
        "  while choice.upper()!='Y' and choice.upper()!='N':    #Ask for input untill user input's the Y or N\n",
        "    print(\"Wrong input\")\n",
        "    choice=input(\"Do you want to play again(Y/N)\")\n",
        "  if choice.upper()=='N':                         #if User do not want to play quit the game\n",
        "    print(\"Quit\")\n",
        "    break\n",
        "\n",
        "  if choice.upper()=='Y':                     #Players selects Yes to play again\n",
        "    lets_go()                                 #let_go contains the actual game\n",
        "    choice=input(\"Do you want to play again(Y/N)\")\n",
        "\n"
      ],
      "execution_count": null,
      "outputs": [
        {
          "output_type": "stream",
          "name": "stdout",
          "text": [
            "Welcome to the Tic Tac Toe game\n",
            "<<About Game>>: \n",
            "There are Nine blocks represented by the Nine number(1-9) shown below. Enter the block number to insert element in the perticular block\n",
            "  7   ||   8   ||   9   \n",
            "------------------------\n",
            "  4   ||   5   ||   6   \n",
            "------------------------\n",
            "  3   ||   2   ||   1   \n"
          ]
        }
      ]
    },
    {
      "cell_type": "code",
      "metadata": {
        "colab": {
          "base_uri": "https://localhost:8080/"
        },
        "id": "DXFMHNkBOmIN",
        "outputId": "5b5af387-00f1-4383-c78f-8fa1e2ab00dd"
      },
      "source": [
        "'d'.upper()==\"D\""
      ],
      "execution_count": 11,
      "outputs": [
        {
          "output_type": "execute_result",
          "data": {
            "text/plain": [
              "True"
            ]
          },
          "metadata": {},
          "execution_count": 11
        }
      ]
    },
    {
      "cell_type": "code",
      "metadata": {
        "id": "VN2Nn7XFOWAy"
      },
      "source": [
        ""
      ],
      "execution_count": null,
      "outputs": []
    }
  ]
}